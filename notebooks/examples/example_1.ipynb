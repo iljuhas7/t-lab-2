{
 "cells": [
  {
   "cell_type": "markdown",
   "metadata": {},
   "source": [
    "# Библиотека numpy"
   ]
  },
  {
   "cell_type": "code",
   "execution_count": 2,
   "metadata": {},
   "outputs": [],
   "source": [
    "import numpy as np"
   ]
  },
  {
   "cell_type": "markdown",
   "metadata": {},
   "source": [
    "---\n",
    "## Примеры"
   ]
  },
  {
   "cell_type": "markdown",
   "metadata": {},
   "source": [
    "### Расчет статистик по данным в массиве\n",
    "<table style=\"float: left;\">\n",
    "    <tbody>\n",
    "        <tr style=\"background: white;\">\n",
    "            <td> m = </td>\n",
    "            <td>\n",
    "                <table style=\"float: left; border: 1px solid grey;\">\n",
    "                    <tbody>\n",
    "                        <tr style=\"background: white;\">\n",
    "                            <td style=\"border: 1px solid grey;\">21</td>\n",
    "                            <td style=\"border: 1px solid grey;\">13</td>\n",
    "                            <td style=\"border: 1px solid grey;\">12</td>\n",
    "                            <td style=\"border: 1px solid grey;\">4</td>\n",
    "                        </tr>\n",
    "                        <tr style=\"background: white;\">\n",
    "                            <td style=\"border: 1px solid grey;\">16</td>\n",
    "                            <td style=\"border: 1px solid grey;\">12</td>\n",
    "                            <td style=\"border: 1px solid grey;\">8</td>\n",
    "                            <td style=\"border: 1px solid grey;\">2</td>\n",
    "                        </tr> \n",
    "                        <tr style=\"background: white;\">\n",
    "                            <td style=\"border: 1px solid grey;\">6</td>\n",
    "                            <td style=\"border: 1px solid grey;\">17</td>\n",
    "                            <td style=\"border: 1px solid grey;\">0</td>\n",
    "                            <td style=\"border: 1px solid grey;\">7</td>\n",
    "                        </tr> \n",
    "                        <tr style=\"background: white;\">\n",
    "                            <td style=\"border: 1px solid grey;\">5</td>\n",
    "                            <td style=\"border: 1px solid grey;\">25</td>\n",
    "                            <td style=\"border: 1px solid grey;\">3</td>\n",
    "                            <td style=\"border: 1px solid grey;\">41</td>\n",
    "                        </tr> \n",
    "                    </tbody>\n",
    "                </table>\n",
    "            </td>\n",
    "        </tr>\n",
    "    </tbody>\n",
    "</table>"
   ]
  },
  {
   "cell_type": "markdown",
   "metadata": {},
   "source": [
    "##### Cоздание объект типа matrix:"
   ]
  },
  {
   "cell_type": "code",
   "execution_count": 81,
   "metadata": {},
   "outputs": [
    {
     "name": "stdout",
     "output_type": "stream",
     "text": [
      "[[21 13 12  4]\n",
      " [16 12  8  2]\n",
      " [ 6 17  0  7]\n",
      " [ 5 25  3 41]]\n"
     ]
    }
   ],
   "source": [
    "m = np.matrix('21 13 12 4; 16 12 8 2; 6 17 0 7; 5 25 3 41')\n",
    "print(m)"
   ]
  },
  {
   "cell_type": "markdown",
   "metadata": {},
   "source": [
    "##### Определение типа объекта:"
   ]
  },
  {
   "cell_type": "code",
   "execution_count": 69,
   "metadata": {},
   "outputs": [
    {
     "name": "stdout",
     "output_type": "stream",
     "text": [
      "<class 'numpy.matrix'>\n"
     ]
    }
   ],
   "source": [
    "print(type(m))"
   ]
  },
  {
   "cell_type": "code",
   "execution_count": 79,
   "metadata": {},
   "outputs": [
    {
     "name": "stdout",
     "output_type": "stream",
     "text": [
      "<class 'numpy.ndarray'>\n"
     ]
    }
   ],
   "source": [
    "m_arr = np.array(m)\n",
    "print(type(m_arr))"
   ]
  },
  {
   "cell_type": "markdown",
   "metadata": {},
   "source": [
    "##### Определения размерности массива:"
   ]
  },
  {
   "cell_type": "code",
   "execution_count": 83,
   "metadata": {},
   "outputs": [
    {
     "name": "stdout",
     "output_type": "stream",
     "text": [
      "(4, 4)\n"
     ]
    }
   ],
   "source": [
    "print(m.shape)"
   ]
  },
  {
   "cell_type": "code",
   "execution_count": 161,
   "metadata": {},
   "outputs": [
    {
     "name": "stdout",
     "output_type": "stream",
     "text": [
      "(4, 4)\n"
     ]
    }
   ],
   "source": [
    "print(m_arr.shape)"
   ]
  },
  {
   "cell_type": "markdown",
   "metadata": {},
   "source": [
    "---\n",
    "### Вызов функции расчета статистики."
   ]
  },
  {
   "cell_type": "code",
   "execution_count": 91,
   "metadata": {},
   "outputs": [
    {
     "name": "stdout",
     "output_type": "stream",
     "text": [
      "41\n"
     ]
    }
   ],
   "source": [
    "print(m.max()) # тоже самле что np.max(m)"
   ]
  },
  {
   "cell_type": "code",
   "execution_count": 98,
   "metadata": {},
   "outputs": [
    {
     "name": "stdout",
     "output_type": "stream",
     "text": [
      "[[21 25 12 41]]\n"
     ]
    }
   ],
   "source": [
    "print(m.max(axis=0)) # строкам"
   ]
  },
  {
   "cell_type": "code",
   "execution_count": 101,
   "metadata": {},
   "outputs": [
    {
     "name": "stdout",
     "output_type": "stream",
     "text": [
      "[[21]\n",
      " [16]\n",
      " [17]\n",
      " [41]]\n"
     ]
    }
   ],
   "source": [
    "print(m.max(axis=1)) # столбцам"
   ]
  },
  {
   "cell_type": "code",
   "execution_count": 104,
   "metadata": {},
   "outputs": [
    {
     "data": {
      "text/plain": [
       "192"
      ]
     },
     "execution_count": 104,
     "metadata": {},
     "output_type": "execute_result"
    }
   ],
   "source": [
    "m.sum() # сумма"
   ]
  },
  {
   "cell_type": "markdown",
   "metadata": {},
   "source": [
    "---\n",
    "### Использование boolean массива для доступа к ndarray."
   ]
  },
  {
   "cell_type": "code",
   "execution_count": 125,
   "metadata": {},
   "outputs": [
    {
     "name": "stdout",
     "output_type": "stream",
     "text": [
      "nums( <class 'numpy.ndarray'> ):  [ 1  2  3  4  5  6  7  8  9 10]\n",
      "nums( <class 'numpy.ndarray'> ):  ['a' 'b' 'c' 'd' 'a' 'e' 'b']\n"
     ]
    }
   ],
   "source": [
    "nums = np.array([1, 2, 3, 4, 5, 6, 7, 8, 9, 10])\n",
    "letters = np.array(['a', 'b', 'c', 'd', 'a', 'e', 'b'])\n",
    "\n",
    "print(\"nums(\", type(nums), \"): \", nums)\n",
    "print(\"nums(\", type(letters), \"): \", letters)"
   ]
  },
  {
   "cell_type": "code",
   "execution_count": 154,
   "metadata": {},
   "outputs": [
    {
     "name": "stdout",
     "output_type": "stream",
     "text": [
      "[ True  True  True  True False False False False False False]\n"
     ]
    }
   ],
   "source": [
    "less_then_5 = nums < 5\n",
    "print(less_then_5)"
   ]
  },
  {
   "cell_type": "code",
   "execution_count": 159,
   "metadata": {},
   "outputs": [
    {
     "name": "stdout",
     "output_type": "stream",
     "text": [
      "[ True False False False  True False False]\n"
     ]
    }
   ],
   "source": [
    "less_then_a = letters == 'a'\n",
    "print(less_then_a)"
   ]
  },
  {
   "cell_type": "code",
   "execution_count": 163,
   "metadata": {},
   "outputs": [
    {
     "name": "stdout",
     "output_type": "stream",
     "text": [
      "[1 2 3 4]\n"
     ]
    }
   ],
   "source": [
    "print(nums[less_then_5]) # тоже самое что nums[nums < 5]"
   ]
  },
  {
   "cell_type": "code",
   "execution_count": 164,
   "metadata": {},
   "outputs": [
    {
     "name": "stdout",
     "output_type": "stream",
     "text": [
      "['a' 'a']\n"
     ]
    }
   ],
   "source": [
    "print(letters[less_then_a]) # тоже самое что letters[letters == 'a']"
   ]
  },
  {
   "cell_type": "code",
   "execution_count": 180,
   "metadata": {},
   "outputs": [
    {
     "name": "stdout",
     "output_type": "stream",
     "text": [
      "[[False False False  True]\n",
      " [False False False False]\n",
      " [ True False False  True]\n",
      " [ True False  True False]]\n"
     ]
    }
   ],
   "source": [
    "mod_m = np.logical_and(m>=3, m<=7)\n",
    "print(mod_m)"
   ]
  },
  {
   "cell_type": "code",
   "execution_count": 243,
   "metadata": {},
   "outputs": [
    {
     "name": "stdout",
     "output_type": "stream",
     "text": [
      "[[4 6 7 5 3]]\n"
     ]
    }
   ],
   "source": [
    "print(m[mod_m])"
   ]
  },
  {
   "cell_type": "markdown",
   "metadata": {},
   "source": [
    "---\n",
    "### Матрица и координаты."
   ]
  },
  {
   "cell_type": "markdown",
   "metadata": {},
   "source": [
    "#### Элемент матрицы с заданными координатами.\n",
    "\n",
    "<table style=\"float: left; border: 1px solid grey;\">\n",
    "    <thead>\n",
    "\t\t<tr>\n",
    "            <th style=\"border: 1px solid grey;\">m</th>\n",
    "\t\t\t<th style=\"border: 1px solid grey;\">0</th>\n",
    "\t\t\t<th style=\"border: 1px solid grey;\">1</th>\n",
    "\t\t\t<th style=\"border: 1px solid grey;\">2</th>\n",
    "\t\t\t<th style=\"border: 1px solid grey; background: paleturquoise;\">3</th>\n",
    "\t\t</tr>\n",
    "    </thead>\n",
    "    <tbody>\n",
    "        <tr style=\"background: white;\">\n",
    "            <th style=\"border: 1px solid grey;\">0</th>\n",
    "            <td style=\"border: 1px solid grey;\">21</td>\n",
    "            <td style=\"border: 1px solid grey;\">13</td>\n",
    "            <td style=\"border: 1px solid grey;\">12</td>\n",
    "            <td style=\"border: 1px solid grey; background: yellow;\">4</td>\n",
    "        </tr>\n",
    "        <tr style=\"background: white;\">\n",
    "            <th style=\"border: 1px solid grey;\">1</th>\n",
    "            <td style=\"border: 1px solid grey;\">16</td>\n",
    "            <td style=\"border: 1px solid grey;\">12</td>\n",
    "            <td style=\"border: 1px solid grey;\">8</td>\n",
    "            <td style=\"border: 1px solid grey; background: yellow;\">2</td>\n",
    "        </tr> \n",
    "        <tr style=\"background: yellow;\">\n",
    "            <th style=\"border: 1px solid grey; \">2</th>\n",
    "            <td style=\"border: 1px solid grey;\">6</td>\n",
    "            <td style=\"border: 1px solid grey;\">17</td>\n",
    "            <td style=\"border: 1px solid grey;\">0</td>\n",
    "            <td style=\"border: 1px solid grey; background: chartreuse;\">7</td>\n",
    "        </tr> \n",
    "        <tr style=\"background: white;\">\n",
    "            <th style=\"border: 1px solid grey;\">3</th>\n",
    "            <td style=\"border: 1px solid grey;\">5</td>\n",
    "            <td style=\"border: 1px solid grey;\">25</td>\n",
    "            <td style=\"border: 1px solid grey;\">3</td>\n",
    "            <td style=\"border: 1px solid grey; background: yellow;\">41</td>\n",
    "        </tr> \n",
    "    </tbody>\n",
    "</table>"
   ]
  },
  {
   "cell_type": "code",
   "execution_count": 21,
   "metadata": {},
   "outputs": [
    {
     "name": "stdout",
     "output_type": "stream",
     "text": [
      "7\n"
     ]
    }
   ],
   "source": [
    "print(m[2, 3])"
   ]
  },
  {
   "cell_type": "markdown",
   "metadata": {},
   "source": [
    "#### Строка и столбец матрицы.\n",
    "\n",
    "<table style=\"float: left; border-collapse: separate;\">\n",
    "    <thead>\n",
    "        <tr>\n",
    "            <th style=\"text-align: center;\">Строка</th>\n",
    "            <th style=\"text-align: center;\">Столбец</th>\n",
    "        </tr>\n",
    "    </thead>\n",
    "    <tbody>\n",
    "        <tr style=\"background: white;\">\n",
    "            <td>\n",
    "                <table style=\"float: left; border: 1px solid grey;\">\n",
    "                    <thead>\n",
    "                        <tr style=\"background: white;\">\n",
    "                            <th style=\"border: 1px solid grey;\">m</th>\n",
    "                            <th style=\"border: 1px solid grey; background: paleturquoise;\">0</th>\n",
    "                            <th style=\"border: 1px solid grey; background: paleturquoise;\">1</th>\n",
    "                            <th style=\"border: 1px solid grey; background: paleturquoise;\">2</th>\n",
    "                            <th style=\"border: 1px solid grey; background: paleturquoise;\">3</th>\n",
    "                        </tr>\n",
    "                    </thead>\n",
    "                    <tbody>\n",
    "                        <tr style=\"background: white;\">\n",
    "                            <th style=\"border: 1px solid grey;\">0</th>\n",
    "                            <td style=\"border: 1px solid grey; background: yellow;\">21</td>\n",
    "                            <td style=\"border: 1px solid grey; background: yellow;\">13</td>\n",
    "                            <td style=\"border: 1px solid grey; background: yellow;\">12</td>\n",
    "                            <td style=\"border: 1px solid grey; background: yellow;\">4</td>\n",
    "                        </tr>\n",
    "                        <tr style=\"background: white;\">\n",
    "                            <th style=\"border: 1px solid grey;\">1</th>\n",
    "                            <td style=\"border: 1px solid grey; background: yellow;\">16</td>\n",
    "                            <td style=\"border: 1px solid grey; background: yellow;\">12</td>\n",
    "                            <td style=\"border: 1px solid grey; background: yellow;\">8</td>\n",
    "                            <td style=\"border: 1px solid grey; background: yellow;\">2</td>\n",
    "                        </tr> \n",
    "                        <tr style=\"background: chartreuse;\">\n",
    "                            <th style=\"border: 1px solid grey; background: paleturquoise;\">2</th>\n",
    "                            <td style=\"border: 1px solid grey;\">6</td>\n",
    "                            <td style=\"border: 1px solid grey;\">17</td>\n",
    "                            <td style=\"border: 1px solid grey;\">0</td>\n",
    "                            <td style=\"border: 1px solid grey;\">7</td>\n",
    "                        </tr> \n",
    "                        <tr style=\"background: white;\">\n",
    "                            <th style=\"border: 1px solid grey;\">3</th>\n",
    "                            <td style=\"border: 1px solid grey; background: yellow;\">5</td>\n",
    "                            <td style=\"border: 1px solid grey; background: yellow;\">25</td>\n",
    "                            <td style=\"border: 1px solid grey; background: yellow;\">3</td>\n",
    "                            <td style=\"border: 1px solid grey; background: yellow;\">41</td>\n",
    "                        </tr> \n",
    "                    </tbody>\n",
    "                </table>\n",
    "            </td>\n",
    "            <td>\n",
    "                <table style=\"float: left; border: 1px solid grey;\">\n",
    "                    <thead>\n",
    "                        <tr style=\"background: white;\">\n",
    "                            <th style=\"border: 1px solid grey;\">m</th>\n",
    "                            <th style=\"border: 1px solid grey;\">0</th>\n",
    "                            <th style=\"border: 1px solid grey;\">1</th>\n",
    "                            <th style=\"border: 1px solid grey;\">2</th>\n",
    "                            <th style=\"border: 1px solid grey; background: paleturquoise;\">3</th>\n",
    "                        </tr>\n",
    "                    </thead>\n",
    "                    <tbody>\n",
    "                        <tr style=\"background: yellow;\">\n",
    "                            <th style=\"border: 1px solid grey; background: paleturquoise;\">0</th>\n",
    "                            <td style=\"border: 1px solid grey;\">21</td>\n",
    "                            <td style=\"border: 1px solid grey;\">13</td>\n",
    "                            <td style=\"border: 1px solid grey;\">12</td>\n",
    "                            <td style=\"border: 1px solid grey; background: chartreuse;\">4</td>\n",
    "                        </tr>\n",
    "                        <tr style=\"background: yellow;\">\n",
    "                            <th style=\"border: 1px solid grey; background: paleturquoise;\">1</th>\n",
    "                            <td style=\"border: 1px solid grey;\">16</td>\n",
    "                            <td style=\"border: 1px solid grey;\">12</td>\n",
    "                            <td style=\"border: 1px solid grey;\">8</td>\n",
    "                            <td style=\"border: 1px solid grey; background: chartreuse;\">2</td>\n",
    "                        </tr> \n",
    "                        <tr style=\"background: yellow;\">\n",
    "                            <th style=\"border: 1px solid grey; background: paleturquoise;\">2</th>\n",
    "                            <td style=\"border: 1px solid grey;\">6</td>\n",
    "                            <td style=\"border: 1px solid grey;\">17</td>\n",
    "                            <td style=\"border: 1px solid grey;\">0</td>\n",
    "                            <td style=\"border: 1px solid grey; background: chartreuse;\">7</td>\n",
    "                        </tr> \n",
    "                        <tr style=\"background: yellow;\">\n",
    "                            <th style=\"border: 1px solid grey; background: paleturquoise;\">3</th>\n",
    "                            <td style=\"border: 1px solid grey;\">5</td>\n",
    "                            <td style=\"border: 1px solid grey;\">25</td>\n",
    "                            <td style=\"border: 1px solid grey;\">3</td>\n",
    "                            <td style=\"border: 1px solid grey; background: chartreuse;\">41</td>\n",
    "                        </tr> \n",
    "                    </tbody>\n",
    "                </table>\n",
    "            </td>\n",
    "        </tr>\n",
    "    </tbody>\n",
    "</table>"
   ]
  },
  {
   "cell_type": "code",
   "execution_count": 36,
   "metadata": {},
   "outputs": [
    {
     "name": "stdout",
     "output_type": "stream",
     "text": [
      "Строка:\n",
      "[[ 6 17  0  7]]\n"
     ]
    }
   ],
   "source": [
    "print(\"Строка:\")\n",
    "print(m[2, :])"
   ]
  },
  {
   "cell_type": "code",
   "execution_count": 39,
   "metadata": {},
   "outputs": [
    {
     "name": "stdout",
     "output_type": "stream",
     "text": [
      "\n",
      "Столбец:\n",
      "[[ 4]\n",
      " [ 2]\n",
      " [ 7]\n",
      " [41]]\n"
     ]
    }
   ],
   "source": [
    "print(\"\\nСтолбец:\")\n",
    "print(m[:, 3])"
   ]
  },
  {
   "cell_type": "markdown",
   "metadata": {},
   "source": [
    "#### Часть строки, столбца и непрерывная матрицы. \n",
    "\n",
    "<table style=\"float: left; border-collapse: separate;\">\n",
    "    <thead>\n",
    "        <tr>\n",
    "            <th style=\"text-align: center;\">Часть строка</th>\n",
    "            <th style=\"text-align: center;\">Часть столбца</th>\n",
    "            <th style=\"text-align: center;\">Непрерывная часть</th>\n",
    "        </tr>\n",
    "    </thead>\n",
    "    <tbody>\n",
    "        <tr style=\"background: white;\">\n",
    "            <td>\n",
    "                <table style=\"float: left; border: 1px solid grey;\">\n",
    "                    <thead>\n",
    "                        <tr style=\"background: white;\">\n",
    "                            <th style=\"border: 1px solid grey;\">m</th>\n",
    "                            <th style=\"border: 1px solid grey;\">0</th>\n",
    "                            <th style=\"border: 1px solid grey; background: paleturquoise;\">1</th>\n",
    "                            <th style=\"border: 1px solid grey; background: paleturquoise;\">2</th>\n",
    "                            <th style=\"border: 1px solid grey; background: paleturquoise;\">3</th>\n",
    "                        </tr>\n",
    "                    </thead>\n",
    "                    <tbody>\n",
    "                        <tr style=\"background: white;\">\n",
    "                            <th style=\"border: 1px solid grey;\">0</th>\n",
    "                            <td style=\"border: 1px solid grey;\">21</td>\n",
    "                            <td style=\"border: 1px solid grey; background: yellow;\">13</td>\n",
    "                            <td style=\"border: 1px solid grey; background: yellow;\">12</td>\n",
    "                            <td style=\"border: 1px solid grey; background: yellow;\">4</td>\n",
    "                        </tr>\n",
    "                        <tr style=\"background: white;\">\n",
    "                            <th style=\"border: 1px solid grey;\">1</th>\n",
    "                            <td style=\"border: 1px solid grey;\">16</td>\n",
    "                            <td style=\"border: 1px solid grey; background: yellow;\">12</td>\n",
    "                            <td style=\"border: 1px solid grey; background: yellow;\">8</td>\n",
    "                            <td style=\"border: 1px solid grey; background: yellow;\">2</td>\n",
    "                        </tr> \n",
    "                        <tr style=\"background: yellow;\">\n",
    "                            <th style=\"border: 1px solid grey; background: paleturquoise;\">2</th>\n",
    "                            <td style=\"border: 1px solid grey;\">6</td>\n",
    "                            <td style=\"border: 1px solid grey; background: chartreuse;\">17</td>\n",
    "                            <td style=\"border: 1px solid grey; background: chartreuse;\">0</td>\n",
    "                            <td style=\"border: 1px solid grey; background: chartreuse;\">7</td>\n",
    "                        </tr> \n",
    "                        <tr style=\"background: white;\">\n",
    "                            <th style=\"border: 1px solid grey;\">3</th>\n",
    "                            <td style=\"border: 1px solid grey;\">5</td>\n",
    "                            <td style=\"border: 1px solid grey; background: yellow;\">25</td>\n",
    "                            <td style=\"border: 1px solid grey; background: yellow;\">3</td>\n",
    "                            <td style=\"border: 1px solid grey; background: yellow;\">41</td>\n",
    "                        </tr> \n",
    "                    </tbody>\n",
    "                </table>\n",
    "            </td>\n",
    "            <td>\n",
    "                <table style=\"float: left; border: 1px solid grey;\">\n",
    "                    <thead>\n",
    "                        <tr style=\"background: white;\">\n",
    "                            <th style=\"border: 1px solid grey;\">m</th>\n",
    "                            <th style=\"border: 1px solid grey;\">0</th>\n",
    "                            <th style=\"border: 1px solid grey;\">1</th>\n",
    "                            <th style=\"border: 1px solid grey;\">2</th>\n",
    "                            <th style=\"border: 1px solid grey; background: paleturquoise;\">3</th>\n",
    "                        </tr>\n",
    "                    </thead>\n",
    "                    <tbody>\n",
    "                        <tr style=\"background: yellow;\">\n",
    "                            <th style=\"border: 1px solid grey; background: paleturquoise;\">0</th>\n",
    "                            <td style=\"border: 1px solid grey;\">21</td>\n",
    "                            <td style=\"border: 1px solid grey;\">13</td>\n",
    "                            <td style=\"border: 1px solid grey;\">12</td>\n",
    "                            <td style=\"border: 1px solid grey; background: chartreuse;\">4</td>\n",
    "                        </tr>\n",
    "                        <tr style=\"background: yellow;\">\n",
    "                            <th style=\"border: 1px solid grey; background: paleturquoise;\">1</th>\n",
    "                            <td style=\"border: 1px solid grey;\">16</td>\n",
    "                            <td style=\"border: 1px solid grey;\">12</td>\n",
    "                            <td style=\"border: 1px solid grey;\">8</td>\n",
    "                            <td style=\"border: 1px solid grey; background: chartreuse;\">2</td>\n",
    "                        </tr> \n",
    "                        <tr style=\"background: white;\">\n",
    "                            <th style=\"border: 1px solid grey;\">2</th>\n",
    "                            <td style=\"border: 1px solid grey;\">6</td>\n",
    "                            <td style=\"border: 1px solid grey;\">17</td>\n",
    "                            <td style=\"border: 1px solid grey;\">0</td>\n",
    "                            <td style=\"border: 1px solid grey; background: yellow;\">7</td>\n",
    "                        </tr> \n",
    "                        <tr style=\"background: white;\">\n",
    "                            <th style=\"border: 1px solid grey;\">3</th>\n",
    "                            <td style=\"border: 1px solid grey;\">5</td>\n",
    "                            <td style=\"border: 1px solid grey;\">25</td>\n",
    "                            <td style=\"border: 1px solid grey;\">3</td>\n",
    "                            <td style=\"border: 1px solid grey; background: yellow;\">41</td>\n",
    "                        </tr> \n",
    "                    </tbody>\n",
    "                </table>\n",
    "            </td>\n",
    "            <td>\n",
    "                <table style=\"float: left; border: 1px solid grey;\">\n",
    "                    <thead>\n",
    "                        <tr style=\"background: white;\">\n",
    "                            <th style=\"border: 1px solid grey;\">m</th>\n",
    "                            <th style=\"border: 1px solid grey;\">0</th>\n",
    "                            <th style=\"border: 1px solid grey; background: paleturquoise;\">1</th>\n",
    "                            <th style=\"border: 1px solid grey; background: paleturquoise;\">2</th>\n",
    "                            <th style=\"border: 1px solid grey;\">3</th>\n",
    "                        </tr>\n",
    "                    </thead>\n",
    "                    <tbody>\n",
    "                        <tr style=\"background: yellow;\">\n",
    "                            <th style=\"border: 1px solid grey; background: paleturquoise;\">0</th>\n",
    "                            <td style=\"border: 1px solid grey;\">21</td>\n",
    "                            <td style=\"border: 1px solid grey; background: chartreuse;\">13</td>\n",
    "                            <td style=\"border: 1px solid grey; background: chartreuse;\">12</td>\n",
    "                            <td style=\"border: 1px solid grey;\">4</td>\n",
    "                        </tr>\n",
    "                        <tr style=\"background: yellow;\">\n",
    "                            <th style=\"border: 1px solid grey; background: paleturquoise;\">1</th>\n",
    "                            <td style=\"border: 1px solid grey;\">16</td>\n",
    "                            <td style=\"border: 1px solid grey; background: chartreuse;\">12</td>\n",
    "                            <td style=\"border: 1px solid grey; background: chartreuse;\">8</td>\n",
    "                            <td style=\"border: 1px solid grey;\">2</td>\n",
    "                        </tr> \n",
    "                        <tr style=\"background: white;\">\n",
    "                            <th style=\"border: 1px solid grey;\">2</th>\n",
    "                            <td style=\"border: 1px solid grey;\">6</td>\n",
    "                            <td style=\"border: 1px solid grey; background: yellow;\">17</td>\n",
    "                            <td style=\"border: 1px solid grey; background: yellow;\">0</td>\n",
    "                            <td style=\"border: 1px solid grey;\">7</td>\n",
    "                        </tr> \n",
    "                        <tr style=\"background: white;\">\n",
    "                            <th style=\"border: 1px solid grey;\">3</th>\n",
    "                            <td style=\"border: 1px solid grey;\">5</td>\n",
    "                            <td style=\"border: 1px solid grey; background: yellow;\">25</td>\n",
    "                            <td style=\"border: 1px solid grey; background: yellow;\">3</td>\n",
    "                            <td style=\"border: 1px solid grey;\">41</td>\n",
    "                        </tr> \n",
    "                    </tbody>\n",
    "                </table>\n",
    "            </td>\n",
    "        </tr>\n",
    "    </tbody>\n",
    "</table>"
   ]
  },
  {
   "cell_type": "code",
   "execution_count": 49,
   "metadata": {},
   "outputs": [
    {
     "name": "stdout",
     "output_type": "stream",
     "text": [
      "Часть строка:\n",
      "[[17  0  7]]\n"
     ]
    }
   ],
   "source": [
    "print(\"Часть строка:\")\n",
    "print(m[2, 1:])"
   ]
  },
  {
   "cell_type": "code",
   "execution_count": 55,
   "metadata": {},
   "outputs": [
    {
     "name": "stdout",
     "output_type": "stream",
     "text": [
      "Часть столбца:\n",
      "[[4]\n",
      " [2]]\n"
     ]
    }
   ],
   "source": [
    "print(\"Часть столбца:\")\n",
    "print(m[0:2, 3])"
   ]
  },
  {
   "cell_type": "code",
   "execution_count": 60,
   "metadata": {},
   "outputs": [
    {
     "name": "stdout",
     "output_type": "stream",
     "text": [
      "Непрерывная часть:\n",
      "[[13 12]\n",
      " [12  8]]\n"
     ]
    }
   ],
   "source": [
    "print(\"Непрерывная часть:\")\n",
    "print(m[0:2, 1:3])"
   ]
  },
  {
   "cell_type": "markdown",
   "metadata": {},
   "source": [
    "#### Произвольные столбцы и строки матрицы.\n",
    "\n",
    "<table style=\"float: left; border: 1px solid grey;\">\n",
    "    <thead>\n",
    "\t\t<tr>\n",
    "            <th style=\"border: 1px solid grey;\">m</th>\n",
    "\t\t\t<th style=\"border: 1px solid grey; background: coral;\">0</th>\n",
    "\t\t\t<th style=\"border: 1px solid grey;\">1</th>\n",
    "\t\t\t<th style=\"border: 1px solid grey; background: paleturquoise;\">2</th>\n",
    "\t\t\t<th style=\"border: 1px solid grey;\">3</th>\n",
    "\t\t</tr>\n",
    "    </thead>\n",
    "    <tbody>\n",
    "        <tr style=\"background: #ffe0a8;\">\n",
    "            <th style=\"border: 1px solid grey; background: coral;\">0</th>\n",
    "            <td style=\"border: 1px solid grey; background: chartreuse;\">21</td>\n",
    "            <td style=\"border: 1px solid grey;\">13</td>\n",
    "            <td style=\"border: 1px solid grey; background: #fffca8;\">12</td>\n",
    "            <td style=\"border: 1px solid grey;\">4</td>\n",
    "        </tr>\n",
    "        <tr style=\"background: white;\">\n",
    "            <th style=\"border: 1px solid grey;\">1</th>\n",
    "            <td style=\"border: 1px solid grey; background: #ffe0a8;\">16</td>\n",
    "            <td style=\"border: 1px solid grey;\">12</td>\n",
    "            <td style=\"border: 1px solid grey; background: #d7fff4;\">8</td>\n",
    "            <td style=\"border: 1px solid grey;\">2</td>\n",
    "        </tr> \n",
    "        <tr style=\"background: #d7fff4;\">\n",
    "            <th style=\"border: 1px solid grey; background: paleturquoise;\">2</th>\n",
    "            <td style=\"border: 1px solid grey; background: #fffca8;\">6</td>\n",
    "            <td style=\"border: 1px solid grey;\">17</td>\n",
    "            <td style=\"border: 1px solid grey; background: chartreuse;\">0</td>\n",
    "            <td style=\"border: 1px solid grey;\">7</td>\n",
    "        </tr> \n",
    "        <tr style=\"background: white;\">\n",
    "            <th style=\"border: 1px solid grey;\">3</th>\n",
    "            <td style=\"border: 1px solid grey; background: #ffe0a8;\">5</td>\n",
    "            <td style=\"border: 1px solid grey;\">25</td>\n",
    "            <td style=\"border: 1px solid grey; background: #d7fff4;\">3</td>\n",
    "            <td style=\"border: 1px solid grey;\">41</td>\n",
    "        </tr> \n",
    "    </tbody>\n",
    "</table>"
   ]
  },
  {
   "cell_type": "code",
   "execution_count": 182,
   "metadata": {},
   "outputs": [
    {
     "name": "stdout",
     "output_type": "stream",
     "text": [
      "[[21  0]]\n"
     ]
    }
   ],
   "source": [
    "rows = [0, 2]\n",
    "cols = [0, 2]\n",
    "print(m[rows, cols])"
   ]
  },
  {
   "cell_type": "markdown",
   "metadata": {},
   "source": [
    "---\n",
    "### Дополнительные функции"
   ]
  },
  {
   "cell_type": "markdown",
   "metadata": {},
   "source": [
    "#### Arange() - аналог range() :"
   ]
  },
  {
   "cell_type": "code",
   "execution_count": 184,
   "metadata": {},
   "outputs": [
    {
     "name": "stdout",
     "output_type": "stream",
     "text": [
      "[0 1 2 3 4 5 6 7 8 9]\n"
     ]
    }
   ],
   "source": [
    "print(np.arange(10))"
   ]
  },
  {
   "cell_type": "code",
   "execution_count": 188,
   "metadata": {},
   "outputs": [
    {
     "name": "stdout",
     "output_type": "stream",
     "text": [
      "[1 2 3 4 5 6 7 8]\n"
     ]
    }
   ],
   "source": [
    "print(np.arange(1,9))"
   ]
  },
  {
   "cell_type": "code",
   "execution_count": 196,
   "metadata": {},
   "outputs": [
    {
     "name": "stdout",
     "output_type": "stream",
     "text": [
      "[0.1 0.3 0.5 0.7 0.9]\n"
     ]
    }
   ],
   "source": [
    "print(np.arange(0.1, 1.0, 0.2))"
   ]
  },
  {
   "cell_type": "markdown",
   "metadata": {},
   "source": [
    "#### Matrix() :"
   ]
  },
  {
   "cell_type": "code",
   "execution_count": 200,
   "metadata": {},
   "outputs": [
    {
     "name": "stdout",
     "output_type": "stream",
     "text": [
      "[[1, 2], [3, 4]]\n"
     ]
    }
   ],
   "source": [
    "# Python - список\n",
    "a = [[1, 2], [3, 4]]\n",
    "print(a)"
   ]
  },
  {
   "cell_type": "code",
   "execution_count": 203,
   "metadata": {},
   "outputs": [
    {
     "name": "stdout",
     "output_type": "stream",
     "text": [
      "[[5 6]\n",
      " [7 8]]\n"
     ]
    }
   ],
   "source": [
    "# Numpy - массив\n",
    "b = np.array([[5, 6], [7, 8]])\n",
    "print(b)"
   ]
  },
  {
   "cell_type": "code",
   "execution_count": 205,
   "metadata": {},
   "outputs": [
    {
     "name": "stdout",
     "output_type": "stream",
     "text": [
      "[[1 2]\n",
      " [3 4]]\n"
     ]
    }
   ],
   "source": [
    "# Matlab - стиль\n",
    "c = np.matrix('[1, 2; 3, 4]')\n",
    "print(c)"
   ]
  },
  {
   "cell_type": "markdown",
   "metadata": {},
   "source": [
    "#### Np.\\[ zeros | eye \\]() :"
   ]
  },
  {
   "cell_type": "code",
   "execution_count": 208,
   "metadata": {},
   "outputs": [
    {
     "name": "stdout",
     "output_type": "stream",
     "text": [
      "[[0. 0. 0. 0.]\n",
      " [0. 0. 0. 0.]]\n"
     ]
    }
   ],
   "source": [
    "print(np.zeros((2, 4)))"
   ]
  },
  {
   "cell_type": "code",
   "execution_count": 211,
   "metadata": {},
   "outputs": [
    {
     "data": {
      "text/plain": [
       "array([[1., 0., 0., 0.],\n",
       "       [0., 1., 0., 0.],\n",
       "       [0., 0., 1., 0.],\n",
       "       [0., 0., 0., 1.]])"
      ]
     },
     "execution_count": 211,
     "metadata": {},
     "output_type": "execute_result"
    }
   ],
   "source": [
    "np.eye(4)"
   ]
  },
  {
   "cell_type": "markdown",
   "metadata": {},
   "source": [
    "#### Np.ravel() :"
   ]
  },
  {
   "cell_type": "code",
   "execution_count": 214,
   "metadata": {},
   "outputs": [
    {
     "name": "stdout",
     "output_type": "stream",
     "text": [
      "[21 13 12  4 16 12  8  2  6 17  0  7  5 25  3 41]\n"
     ]
    }
   ],
   "source": [
    "print(np.ravel(m))"
   ]
  },
  {
   "cell_type": "code",
   "execution_count": 215,
   "metadata": {},
   "outputs": [
    {
     "name": "stdout",
     "output_type": "stream",
     "text": [
      "[21 13 12  4 16 12  8  2  6 17  0  7  5 25  3 41]\n"
     ]
    }
   ],
   "source": [
    "print(np.ravel(m, order='C'))"
   ]
  },
  {
   "cell_type": "code",
   "execution_count": 217,
   "metadata": {},
   "outputs": [
    {
     "name": "stdout",
     "output_type": "stream",
     "text": [
      "[21 16  6  5 13 12 17 25 12  8  0  3  4  2  7 41]\n"
     ]
    }
   ],
   "source": [
    "print(np.ravel(m, order='F'))"
   ]
  },
  {
   "cell_type": "markdown",
   "metadata": {},
   "source": [
    "#### Np.where() :"
   ]
  },
  {
   "cell_type": "code",
   "execution_count": 222,
   "metadata": {},
   "outputs": [
    {
     "name": "stdout",
     "output_type": "stream",
     "text": [
      "[[  2.1   1.3 120.   40. ]\n",
      " [160.  120.   80.   20. ]\n",
      " [ 60.    1.7   0.    0.7]\n",
      " [  0.5   2.5   0.3   4.1]]\n"
     ]
    }
   ],
   "source": [
    "print(np.where(m % 2 == 0, m * 10, m / 10)) # np.where(условие, верно, не верно)"
   ]
  },
  {
   "cell_type": "markdown",
   "metadata": {},
   "source": [
    "#### Np.meshgrid() : "
   ]
  },
  {
   "cell_type": "code",
   "execution_count": 234,
   "metadata": {},
   "outputs": [
    {
     "name": "stdout",
     "output_type": "stream",
     "text": [
      "xg: \n",
      " [[0.   0.25 0.5  0.75 1.  ]\n",
      " [0.   0.25 0.5  0.75 1.  ]\n",
      " [0.   0.25 0.5  0.75 1.  ]\n",
      " [0.   0.25 0.5  0.75 1.  ]\n",
      " [0.   0.25 0.5  0.75 1.  ]] \n",
      "\n",
      "yg: \n",
      " [[0.  0.  0.  0.  0. ]\n",
      " [0.5 0.5 0.5 0.5 0.5]\n",
      " [1.  1.  1.  1.  1. ]\n",
      " [1.5 1.5 1.5 1.5 1.5]\n",
      " [2.  2.  2.  2.  2. ]]\n"
     ]
    },
    {
     "data": {
      "image/png": "[encoded data removed]",
      "text/plain": [
       "<Figure size 432x288 with 1 Axes>"
      ]
     },
     "metadata": {
      "needs_background": "light"
     },
     "output_type": "display_data"
    }
   ],
   "source": [
    "import matplotlib.pyplot as plt\n",
    "\n",
    "x = np.linspace(0, 1, 5)\n",
    "y = np.linspace(0, 2, 5)\n",
    "xg, yg = np.meshgrid(x, y)\n",
    "plt.plot(xg, yg, color=\"r\", marker=\"*\", linestyle=\"none\")\n",
    "print(\"xg: \\n\", xg, \"\\n\\nyg: \\n\", yg)"
   ]
  },
  {
   "cell_type": "code",
   "execution_count": 244,
   "metadata": {},
   "outputs": [
    {
     "name": "stdout",
     "output_type": "stream",
     "text": [
      "[[21 13 12  4]\n",
      " [ 5 25  3 41]\n",
      " [16 12  8  2]\n",
      " [ 6 17  0  7]]\n"
     ]
    }
   ],
   "source": [
    "print(np.random.permutation(m))"
   ]
  }
 ],
 "metadata": {
  "kernelspec": {
   "display_name": "Python 3",
   "language": "python",
   "name": "python3"
  },
  "language_info": {
   "codemirror_mode": {
    "name": "ipython",
    "version": 3
   },
   "file_extension": ".py",
   "mimetype": "text/x-python",
   "name": "python",
   "nbconvert_exporter": "python",
   "pygments_lexer": "ipython3",
   "version": "3.8.10"
  }
 },
 "nbformat": 4,
 "nbformat_minor": 4
}
