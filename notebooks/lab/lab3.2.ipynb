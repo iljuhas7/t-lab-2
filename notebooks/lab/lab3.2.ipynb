{
 "cells": [
  {
   "cell_type": "markdown",
   "metadata": {},
   "source": [
    "\n",
    "\n",
    "# Лабораторная работа 3.2. Знакомство с NumPy\n",
    "Библиотека NumPy -- быстрая библиотека для математики в Python, основная структура данных -- массив `numpy.array`:"
   ]
  },
  {
   "cell_type": "markdown",
   "metadata": {},
   "source": [
    "![](https://media.giphy.com/media/3o7btPCcdNniyf0ArS/giphy.gif)"
   ]
  },
  {
   "cell_type": "code",
   "execution_count": 1,
   "metadata": {
    "jupyter": {
     "outputs_hidden": true
    }
   },
   "outputs": [],
   "source": [
    "# подключение модуля numpy под именем np\n",
    "import numpy as np"
   ]
  },
  {
   "cell_type": "code",
   "execution_count": 123,
   "metadata": {},
   "outputs": [
    {
     "name": "stdout",
     "output_type": "stream",
     "text": [
      "a = [1 2 3 4 5]\n",
      "b = [0.1 0.2 0.3 0.4 0.5]\n"
     ]
    }
   ],
   "source": [
    "# основная структура данных - массив\n",
    "a = np.array([1, 2, 3, 4, 5])\n",
    "b = np.array([0.1, 0.2, 0.3, 0.4, 0.5])\n",
    "\n",
    "print(\"a =\", a)\n",
    "print(\"b =\", b)"
   ]
  },
  {
   "cell_type": "markdown",
   "metadata": {},
   "source": [
    "Создайте массив с 5 любыми числами:"
   ]
  },
  {
   "cell_type": "code",
   "execution_count": 124,
   "metadata": {},
   "outputs": [
    {
     "name": "stdout",
     "output_type": "stream",
     "text": [
      "i_a = [ 9  3 12  8  0]\n",
      "i_a = [0.3  0.8  0.12 0.1  0.23]\n"
     ]
    }
   ],
   "source": [
    "#YOUR CODE\n",
    "\n",
    "i_a = np.array([9, 3, 12, 8, 0])\n",
    "i_b = np.array([0.3, 0.8, 0.12, 0.1, 0.23])\n",
    "\n",
    "print(\"i_a =\", i_a)\n",
    "print(\"i_a =\", i_b)"
   ]
  },
  {
   "cell_type": "markdown",
   "metadata": {},
   "source": [
    "Арифметические операции, в отличие от операций над списками, применяются поэлементно:"
   ]
  },
  {
   "cell_type": "code",
   "execution_count": 125,
   "metadata": {},
   "outputs": [
    {
     "name": "stdout",
     "output_type": "stream",
     "text": [
      "list1: [1, 2, 3]\n",
      "\tlist1 * 3: [1, 2, 3, 1, 2, 3, 1, 2, 3]\n",
      "\tlist1 + [1]: [1, 2, 3, 1]\n",
      "array1: [1 2 3]\n",
      "\tarray1 * 3: [3 6 9]\n",
      "\tarray1 + 1: [2 3 4]\n"
     ]
    }
   ],
   "source": [
    "list1 = [1, 2, 3]\n",
    "array1 = np.array([1, 2, 3])\n",
    "\n",
    "print(\"list1:\", list1)\n",
    "print('\\tlist1 * 3:', list1 * 3)\n",
    "print('\\tlist1 + [1]:', list1 + [1])\n",
    "\n",
    "print('array1:', array1)\n",
    "print('\\tarray1 * 3:', array1 * 3)\n",
    "print('\\tarray1 + 1:', array1 + 1)"
   ]
  },
  {
   "cell_type": "markdown",
   "metadata": {},
   "source": [
    "Создайте массив из 5 чисел. Возведите каждый элемент массива в степень 3"
   ]
  },
  {
   "cell_type": "code",
   "execution_count": 175,
   "metadata": {
    "jupyter": {
     "outputs_hidden": true
    }
   },
   "outputs": [
    {
     "name": "stdout",
     "output_type": "stream",
     "text": [
      "list1: [9, 3, 12, 8, 0]\n",
      "\tlist1 * 3: [729, 27, 1728, 512, 0]\n",
      "\n",
      "\n",
      "array1: [ 9  3 12  8  0]\n",
      "\tarray1 ** 3: [ 729   27 1728  512    0]\n"
     ]
    }
   ],
   "source": [
    "#YOUR CODE\n",
    "\n",
    "i_list1 = [9, 3, 12, 8, 0]\n",
    "i_array1 = np.array([9, 3, 12, 8, 0])\n",
    "\n",
    "print(\"list1:\", i_list1)\n",
    "print('\\tlist1 * 3:', [i_item ** 3 for i_item in i_list1 ]) # error i_list1 ** 3 (TypeError: unsupported operand type(s) for ** or pow(): 'list' and 'int')\n",
    "print(\"\\n\")\n",
    "print('array1:', i_array1)\n",
    "print('\\tarray1 ** 3:', i_array1 ** 3)"
   ]
  },
  {
   "cell_type": "markdown",
   "metadata": {},
   "source": [
    "Если в операции участвуют $2$ массива (по умолчанию -- одинакового размера), операции считаются для соответствующих пар:"
   ]
  },
  {
   "cell_type": "code",
   "execution_count": 126,
   "metadata": {},
   "outputs": [
    {
     "name": "stdout",
     "output_type": "stream",
     "text": [
      "a + b = [1.1 2.2 3.3 4.4 5.5]\n",
      "a * b = [0.1 0.4 0.9 1.6 2.5]\n"
     ]
    }
   ],
   "source": [
    "print(\"a + b =\", a + b)\n",
    "print(\"a * b =\", a * b)"
   ]
  },
  {
   "cell_type": "code",
   "execution_count": null,
   "metadata": {
    "collapsed": true,
    "jupyter": {
     "outputs_hidden": true
    }
   },
   "outputs": [],
   "source": [
    "# вот это разность\n",
    "print(\"a - b =\", a - b)\n",
    "\n",
    "# вот это деление\n",
    "print(\"a / b =\", a / b)\n",
    "\n",
    "# вот это целочисленное деление\n",
    "print(\"a // b =\", a // b)\n",
    "\n",
    "# вот это квадрат\n",
    "print(\"a ** 2 =\", a ** 2)"
   ]
  },
  {
   "cell_type": "markdown",
   "metadata": {},
   "source": [
    " Создайте два массива одинаковой длины. Выведите массив, полученный делением одного массива на другой."
   ]
  },
  {
   "cell_type": "code",
   "execution_count": 127,
   "metadata": {
    "jupyter": {
     "outputs_hidden": true
    }
   },
   "outputs": [
    {
     "name": "stdout",
     "output_type": "stream",
     "text": [
      "i_a = [ 9  3 12  8  0]\n",
      "i_b = [0.3  0.8  0.12 0.1  0.23]\n",
      "\n",
      "\n",
      "a + b = [ 9.3   3.8  12.12  8.1   0.23]\n",
      "a - b = [ 8.7   2.2  11.88  7.9  -0.23]\n",
      "a * b = [2.7  2.4  1.44 0.8  0.  ]\n",
      "a / b = [ 30.     3.75 100.    80.     0.  ]\n",
      "a // b = [ 30.   3. 100.  79.   0.]\n",
      "a ** 2 = [ 81   9 144  64   0]\n"
     ]
    }
   ],
   "source": [
    "#YOUR CODE\n",
    "\n",
    "print(\"i_a =\", i_a)\n",
    "print(\"i_b =\", i_b)\n",
    "print(\"\\n\")\n",
    "\n",
    "# сумма\n",
    "print(\"a + b =\", i_a + i_b)\n",
    "\n",
    "# разность\n",
    "print(\"a - b =\", i_a - i_b)\n",
    "\n",
    "# произведение\n",
    "print(\"a * b =\", i_a * i_b)\n",
    "\n",
    "# деление\n",
    "print(\"a / b =\", i_a / i_b)\n",
    "\n",
    "# целочисленное деление\n",
    "print(\"a // b =\", i_a // i_b)\n",
    "\n",
    "# квадрат (степень)\n",
    "print(\"a ** 2 =\", i_a ** 2)"
   ]
  },
  {
   "cell_type": "markdown",
   "metadata": {},
   "source": [
    "#### *Л — логика*\n",
    "К элементам массива можно применять логические операции.\n",
    "\n",
    "Возвращаемое значение -- массив, содержащий результаты вычислений для каждого элемента (`True` -- \"да\" или `False` -- \"нет\"):"
   ]
  },
  {
   "cell_type": "code",
   "execution_count": 128,
   "metadata": {},
   "outputs": [
    {
     "name": "stdout",
     "output_type": "stream",
     "text": [
      "a = [1 2 3 4 5]\n",
      "\ta > 1:  [False  True  True  True  True]\n",
      "\n",
      "b = [0.1 0.2 0.3 0.4 0.5]\n",
      "\tb < 0.5:   [ True  True  True  True False]\n",
      "\n",
      "Одновременная проверка условий:\n",
      "\t(a > 1) & (b < 0.5):   [False  True  True  True False]\n",
      "А вот это проверяет, что a > 1 ИЛИ b < 0.5:   [ True  True  True  True  True]\n"
     ]
    }
   ],
   "source": [
    "print(\"a =\", a)\n",
    "print(\"\\ta > 1: \", a > 1)\n",
    "print(\"\\nb =\", b)\n",
    "print(\"\\tb < 0.5:  \", b < 0.5)\n",
    "\n",
    "print(\"\\nОдновременная проверка условий:\")\n",
    "print(\"\\t(a > 1) & (b < 0.5):  \", (a>1) & (b < 0.5))\n",
    "print(\"А вот это проверяет, что a > 1 ИЛИ b < 0.5:  \", (a > 1) | (b < 0.5))"
   ]
  },
  {
   "cell_type": "markdown",
   "metadata": {},
   "source": [
    "Создайте 2 массива из 5 элементов. Проверьте условие \"Элементы первого массива меньше 6, элементы второго массива делятся на 3\""
   ]
  },
  {
   "cell_type": "code",
   "execution_count": 168,
   "metadata": {
    "jupyter": {
     "outputs_hidden": true
    }
   },
   "outputs": [
    {
     "name": "stdout",
     "output_type": "stream",
     "text": [
      "i_a = [ 9  3 12  8  0]\n",
      "i_b = [0.3  0.8  0.12 0.1  0.23]\n",
      "[False False False False False]\n"
     ]
    }
   ],
   "source": [
    "#YOUR CODE\n",
    "\n",
    "print(\"i_a =\", i_a)\n",
    "print(\"i_b =\", i_b)\n",
    "\n",
    "print((i_a < 6) & ((i_b % 3) == 0))"
   ]
  },
  {
   "cell_type": "markdown",
   "metadata": {},
   "source": [
    "Теперь проверьте условие \"Элементы первого массива делятся на 2 или элементы второго массива больше 2\""
   ]
  },
  {
   "cell_type": "code",
   "execution_count": 167,
   "metadata": {
    "jupyter": {
     "outputs_hidden": true
    }
   },
   "outputs": [
    {
     "name": "stdout",
     "output_type": "stream",
     "text": [
      "i_a = [ 9  3 12  8  0]\n",
      "i_b = [0.3  0.8  0.12 0.1  0.23]\n",
      "[False False  True  True  True]\n"
     ]
    }
   ],
   "source": [
    "#YOUR CODE\n",
    "\n",
    "print(\"i_a =\", i_a)\n",
    "print(\"i_b =\", i_b)\n",
    "\n",
    "print(((i_a % 2) == 0) | (i_b > 2))"
   ]
  },
  {
   "cell_type": "markdown",
   "metadata": {},
   "source": [
    "Зачем это нужно? Чтобы выбирать элементы массива, удовлетворяющие какому-нибудь условию:"
   ]
  },
  {
   "cell_type": "code",
   "execution_count": 131,
   "metadata": {},
   "outputs": [
    {
     "name": "stdout",
     "output_type": "stream",
     "text": [
      "a = [1 2 3 4 5]\n",
      "a > 2: [False False  True  True  True]\n",
      "a[a > 2]: [3 4 5]\n"
     ]
    }
   ],
   "source": [
    "print(\"a =\", a)\n",
    "print(\"a > 2:\", a > 2)\n",
    "# индексация - выбираем элементы из массива в тех позициях, где True\n",
    "print(\"a[a > 2]:\", a[a > 2])"
   ]
  },
  {
   "cell_type": "markdown",
   "metadata": {},
   "source": [
    "Создайте массив с элементами от 1 до 20. Выведите все элементы, которые больше 5 и не делятся на 2"
   ]
  },
  {
   "cell_type": "markdown",
   "metadata": {},
   "source": [
    "Подсказка: создать массив можно с помощью функции np.arange(), действие которой аналогично функции range, которую вы уже знаете."
   ]
  },
  {
   "cell_type": "code",
   "execution_count": 171,
   "metadata": {
    "jupyter": {
     "outputs_hidden": true
    }
   },
   "outputs": [
    {
     "name": "stdout",
     "output_type": "stream",
     "text": [
      "i_a1 =  [ 1  2  3  4  5  6  7  8  9 10 11 12 13 14 15 16 17 18 19]\n",
      "where =  [ 0.5  1.   1.5  2.   2.5  6.   7.   8.   9.  10.  11.  12.  13.  14.\n",
      " 15.  16.  17.  18.  19. ]\n"
     ]
    }
   ],
   "source": [
    "#YOUR CODE\n",
    "i_a1 = np.arange(1, 20)\n",
    "print(\"i_a1 = \", i_a1)\n",
    "print(\"where = \", np.where(i_a1 > 5, i_a1, i_a1 / 2))\n"
   ]
  },
  {
   "cell_type": "markdown",
   "metadata": {},
   "source": [
    "#### А ещё NumPy умеет...\n",
    "\n",
    "Все операции NumPy оптимизированы для быстрых вычислений над целыми массивами чисел и в методах `np.array` реализовано множество функций, которые могут вам понадобиться:"
   ]
  },
  {
   "cell_type": "code",
   "execution_count": 172,
   "metadata": {},
   "outputs": [
    {
     "name": "stdout",
     "output_type": "stream",
     "text": [
      "np.mean(a) = 3.0\n",
      "np.min(a) = 1\n",
      "np.argmin(a) = 0\n",
      "np.unique(['male', 'male', 'female', 'female', 'male']) = ['female' 'male']\n"
     ]
    }
   ],
   "source": [
    "# теперь можно считать средний размер котиков в одну строку!\n",
    "print(\"np.mean(a) =\", np.mean(a))\n",
    "# минимальный элемент\n",
    "print(\"np.min(a) =\", np.min(a))\n",
    "# индекс минимального элемента\n",
    "print(\"np.argmin(a) =\", np.argmin(a))\n",
    "# вывести значения массива без дубликатов\n",
    "print(\"np.unique(['male', 'male', 'female', 'female', 'male']) =\", np.unique(['male', 'male', 'female', 'female', 'male']))\n",
    "\n",
    "# и ещё много всяких методов\n",
    "# Google в помощь"
   ]
  },
  {
   "cell_type": "markdown",
   "metadata": {},
   "source": [
    "---\n",
    "\n",
    "---\n",
    "\n",
    "Пора еще немного потренироваться с NumPy.\n",
    "\n",
    "Выполните операции, перечисленные ниже:"
   ]
  },
  {
   "cell_type": "code",
   "execution_count": 234,
   "metadata": {
    "jupyter": {
     "outputs_hidden": true
    }
   },
   "outputs": [
    {
     "name": "stdout",
     "output_type": "stream",
     "text": [
      "Разность между a и b: \n",
      "\ta - b: [ 8.7   2.2  11.88  7.9  -0.23]\n",
      "\n",
      "Квадраты элементов b: \n",
      "\tb: [0.09   0.64   0.0144 0.01   0.0529]\n",
      "\n",
      "Половины произведений элементов массивов a и b: \n",
      "\t(a * (1/2)) * (b * (1/2)): [0.675 0.6   0.36  0.2   0.   ]\n",
      "\n",
      "Максимальный элемент b: \n",
      "\tmax b: 0.8\n",
      "\n",
      "Сумма элементов массива b: \n",
      "\tsum b: 1.5500000000000003\n",
      "\n",
      "Индекс максимального элемента b: \n",
      "\tmax b: 1\n"
     ]
    }
   ],
   "source": [
    "print(\"Разность между a и b:\", # YOUR CODE\n",
    "      \"\\n\\ta - b:\", np.subtract(i_a, i_b)\n",
    "     )\n",
    "\n",
    "print(\"\\nКвадраты элементов b:\", # YOUR CODE\n",
    "      \"\\n\\tb:\", np.square(i_b)\n",
    "     )\n",
    "\n",
    "print(\"\\nПоловины произведений элементов массивов a и b:\", # YOUR CODE\n",
    "          \"\\n\\t(a * (1/2)) * (b * (1/2)):\", (i_a*(1/2)) * (i_b*(1/2)) \n",
    "     )\n",
    "\n",
    "print(\"\\nМаксимальный элемент b:\", # YOUR CODE\n",
    "          \"\\n\\tmax b:\", i_b.max()\n",
    "     )\n",
    "print(\"\\nСумма элементов массива b:\", # YOUR CODE\n",
    "          \"\\n\\tsum b:\", i_b.sum()\n",
    "     )\n",
    "print(\"\\nИндекс максимального элемента b:\", # YOUR CODE\n",
    "          \"\\n\\tmax b:\", i_b.argmax()\n",
    "     )"
   ]
  },
  {
   "cell_type": "markdown",
   "metadata": {},
   "source": [
    " \n",
    " \n",
    " Задайте два массива: [5, 2, 3, 12, 4, 5]   и   ['f', 'o', 'o', 'b', 'a', 'r']"
   ]
  },
  {
   "cell_type": "markdown",
   "metadata": {},
   "source": [
    "Выведите буквы из второго массива, индексы которых соответствуют индексам чисел из первого массива, которые больше 1, меньше 5 и делятся на 2"
   ]
  },
  {
   "cell_type": "code",
   "execution_count": 270,
   "metadata": {},
   "outputs": [
    {
     "name": "stdout",
     "output_type": "stream",
     "text": [
      "['o' 'a']\n"
     ]
    }
   ],
   "source": [
    "#YOUR CODE\n",
    "x = np.array([5, 2, 3, 12, 4, 5])\n",
    "y = np.array(['f', 'o', 'o', 'b', 'a', 'r'])\n",
    "\n",
    "print(y[x[(x > 1) & (x < 5) & ((x % 2) == 0)]])"
   ]
  }
 ],
 "metadata": {
  "kernelspec": {
   "display_name": "Python 3",
   "language": "python",
   "name": "python3"
  },
  "language_info": {
   "codemirror_mode": {
    "name": "ipython",
    "version": 3
   },
   "file_extension": ".py",
   "mimetype": "text/x-python",
   "name": "python",
   "nbconvert_exporter": "python",
   "pygments_lexer": "ipython3",
   "version": "3.8.10"
  },
  "name": "seminar1_python_intro_tools.ipynb"
 },
 "nbformat": 4,
 "nbformat_minor": 4
}
