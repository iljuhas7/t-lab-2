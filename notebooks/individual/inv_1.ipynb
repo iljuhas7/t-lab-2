{
 "cells": [
  {
   "cell_type": "markdown",
   "metadata": {},
   "source": [
    "## Индивидуальное задание"
   ]
  },
  {
   "cell_type": "markdown",
   "metadata": {},
   "source": [
    "### Дана целочисленная прямоугольная матрица.\n",
    "#### Определить:\n",
    "1) Количество столбцов, не содержащих ни одного нулевого элемента.<br>\n",
    "2) Характеристикой строки целочисленной матрицы назовем сумму ее положительных четных элементов.<br>\n",
    "3) Переставляя строки заданной матрицы, расположить их в соответствии с ростом характеристик."
   ]
  },
  {
   "cell_type": "code",
   "execution_count": 277,
   "metadata": {},
   "outputs": [
    {
     "name": "stdout",
     "output_type": "stream",
     "text": [
      "Введите матрица:\n",
      "  Введите элементы массива (пример: '1 2; 3 4'): mx =10 11 0 13 14; 5 6 0 8 9; 10 0 12 10 4; 10 21 12 43 14; 1 2 3 4 0\n",
      "\n",
      " Результат:\n",
      "\n",
      "Элементы массива:\n",
      " [[10 11  0 13 14]\n",
      " [ 5  6  0  8  9]\n",
      " [10  0 12 10  4]\n",
      " [10 21 12 43 14]\n",
      " [ 1  2  3  4  0]]\n",
      "Элементы массива (сумма):\n",
      " [[ 48]\n",
      " [ 28]\n",
      " [ 36]\n",
      " [100]\n",
      " [ 10]]\n",
      "\n",
      "\n",
      "Количество столбцов не содержащих ни одного 0 элемента: 4\n",
      "\n",
      "\n",
      "Упорядоченная:\n",
      "\n",
      "Элементы массива:\n",
      " [[[ 1  2  3  4  0]\n",
      "  [ 5  6  0  8  9]\n",
      "  [10  0 12 10  4]\n",
      "  [10 11  0 13 14]\n",
      "  [10 21 12 43 14]]]\n",
      "\n",
      "Элементы массива (сумма):\n",
      " [[ 10]\n",
      " [ 28]\n",
      " [ 36]\n",
      " [ 48]\n",
      " [100]]\n"
     ]
    }
   ],
   "source": [
    "import numpy as np\n",
    "\n",
    "def inv_1(mx: str):\n",
    "    mx = np.matrix(mx)\n",
    "    \n",
    "    mx_element_count_null = np.sum(mx == 0)\n",
    "    mx_row_sum = np.sum(mx, axis=1)\n",
    "    mx_row_sort_sum = np.sort(mx_row_sum, axis=0)\n",
    "    mx_sort_sum = mx[np.argsort(mx_row_sum, axis=0).ravel(), :]\n",
    "    return [mx_element_count_null, mx, mx_row_sum, mx_sort_sum, mx_row_sort_sum]\n",
    "\n",
    "def input_mx():\n",
    "    print(\"Введите матрица:\")\n",
    "    x = inv_1(input(\"  Введите элементы массива (пример: \\'1 2; 3 4\\'): mx =\"))    \n",
    "    print(\"\\n Результат:\\n\")\n",
    "    print(\"Элементы массива:\\n\", x[1])\n",
    "    print(\"Элементы массива (сумма):\\n\", x[2])\n",
    "    print(\"\\n\\nКоличество столбцов не содержащих ни одного 0 элемента:\", x[0])\n",
    "    print(\"\\n\\nУпорядоченная:\")\n",
    "    print(\"\\nЭлементы массива:\\n\", x[3])\n",
    "    print(\"\\nЭлементы массива (сумма):\\n\", x[4])\n",
    "    \n",
    "#print( inv_1(\"10 11 0 13 14; 5 6 0 8 9; 10 0 12 10 4; 10 21 12 43 14; 1 2 3 4 0\") )\n",
    "\n",
    "input_mx()"
   ]
  }
 ],
 "metadata": {
  "kernelspec": {
   "display_name": "Python 3",
   "language": "python",
   "name": "python3"
  },
  "language_info": {
   "codemirror_mode": {
    "name": "ipython",
    "version": 3
   },
   "file_extension": ".py",
   "mimetype": "text/x-python",
   "name": "python",
   "nbconvert_exporter": "python",
   "pygments_lexer": "ipython3",
   "version": "3.8.10"
  }
 },
 "nbformat": 4,
 "nbformat_minor": 4
}
